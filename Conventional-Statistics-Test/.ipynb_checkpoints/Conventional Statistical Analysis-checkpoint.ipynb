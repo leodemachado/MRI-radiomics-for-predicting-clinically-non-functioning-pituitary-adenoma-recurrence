{
 "cells": [
  {
   "cell_type": "markdown",
   "metadata": {},
   "source": [
    "# Statistical Analysis\n",
    "## Hypothesis tests\n",
    "### T-test and variance tests"
   ]
  },
  {
   "cell_type": "code",
   "execution_count": null,
   "metadata": {},
   "outputs": [],
   "source": [
    "import pandas as pd\n",
    "import numpy as np\n",
    "import matplotlib.pyplot as plt\n",
    "%matplotlib inline\n",
    "from scipy import stats as st\n",
    "import math"
   ]
  },
  {
   "cell_type": "code",
   "execution_count": null,
   "metadata": {},
   "outputs": [],
   "source": [
    "dataset = pd.read_csv('3DRadiomics.csv')"
   ]
  },
  {
   "cell_type": "code",
   "execution_count": null,
   "metadata": {},
   "outputs": [],
   "source": [
    "dataset"
   ]
  },
  {
   "cell_type": "code",
   "execution_count": null,
   "metadata": {},
   "outputs": [],
   "source": [
    "dataset.tail()"
   ]
  },
  {
   "cell_type": "markdown",
   "metadata": {},
   "source": [
    "Separating dataset in two smaller datasets as **\"Stable == 0 == False\" and \"Recorrent == 1 == True\" sets**"
   ]
  },
  {
   "cell_type": "code",
   "execution_count": null,
   "metadata": {},
   "outputs": [],
   "source": [
    "# Separating dataset in two small groups\n",
    "recurrent = dataset[dataset['Status']==1].copy()\n",
    "del recurrent['Patients']\n",
    "del recurrent['Status']\n",
    "\n",
    "stable = dataset[dataset['Status']==0].copy()\n",
    "del stable['Patients']\n",
    "del stable['Status']"
   ]
  },
  {
   "cell_type": "code",
   "execution_count": null,
   "metadata": {},
   "outputs": [],
   "source": [
    "recurrent"
   ]
  },
  {
   "cell_type": "code",
   "execution_count": null,
   "metadata": {},
   "outputs": [],
   "source": [
    "stable"
   ]
  },
  {
   "cell_type": "code",
   "execution_count": null,
   "metadata": {
    "scrolled": false
   },
   "outputs": [],
   "source": [
    "a = stable.describe()\n",
    "a.shape\n",
    "a['Age_at_First_Surgery']"
   ]
  },
  {
   "cell_type": "code",
   "execution_count": null,
   "metadata": {},
   "outputs": [],
   "source": [
    "recurrent.describe()"
   ]
  },
  {
   "cell_type": "markdown",
   "metadata": {},
   "source": [
    "### Fucntion to organize notation"
   ]
  },
  {
   "cell_type": "code",
   "execution_count": null,
   "metadata": {},
   "outputs": [],
   "source": [
    "def notation(n):\n",
    "    if abs(n) > 999.999:\n",
    "        nf = '{:.3e}'.format(n)\n",
    "    elif abs(n) < 0.001:\n",
    "        nf = '{:.3e}'.format(n)\n",
    "    else:\n",
    "        nf = '{:.3f}'.format(n)\n",
    "    return nf        "
   ]
  },
  {
   "cell_type": "code",
   "execution_count": null,
   "metadata": {},
   "outputs": [],
   "source": [
    "print(notation(10.1)) "
   ]
  },
  {
   "cell_type": "markdown",
   "metadata": {},
   "source": [
    "# T-test combined with f-test (Snedecor dist.) for variance"
   ]
  },
  {
   "cell_type": "code",
   "execution_count": null,
   "metadata": {
    "scrolled": true
   },
   "outputs": [],
   "source": [
    "# Defining sgnificance level\n",
    "alpha = 0.02\n",
    "sigma = alpha/2\n",
    "\n",
    "# Creating a matrix to hold the results\n",
    "res_matrix = []\n",
    "\n",
    "for c in (stable.columns):\n",
    "    # IC parameters\n",
    "    v1 = np.var(stable[c])\n",
    "    v2 = np.var(recurrent[c])\n",
    "    m1 = np.mean(stable[c])\n",
    "    m2 = np.mean(recurrent[c])\n",
    "    n1 = len(stable[c])\n",
    "    n2 = len(recurrent[c])\n",
    "    df1 = n1 - 1\n",
    "    df2 = n2 - 1\n",
    "    \n",
    "    # Degree of freedom for unequal variances\n",
    "    df_u = math.pow((v1/n1 + v2/n2),2)/((math.pow((v1/n1),2)/df1) +\n",
    "             (math.pow((v2/n2),2)/df2))\n",
    "    \n",
    "    # t-student table parameters (tstatistics)\n",
    "    # For Equal variances\n",
    "    t = st.t.ppf(1.0-sigma,df1+df2)\n",
    "    # For unEqual variances\n",
    "    tU = st.t.ppf(1.0-sigma,df_u)\n",
    "    \n",
    "    # Weighted Variance for equal variances\n",
    "    vp = (df1*v1 + df2*v2)/(df1+df2)\n",
    "    \n",
    "    # 1st - Calculating F-test paramenters\n",
    "    if v1>v2:\n",
    "        F = v1/v2\n",
    "    else:\n",
    "        F = v2/v1\n",
    "    \n",
    "    #Checking the variance   \n",
    "    p = st.f.sf(F, df1, df2)\n",
    "    \n",
    "    if p<0.05: # Not equal Variances\n",
    "        ttp = st.ttest_ind(stable[c],recurrent[c], axis=0, equal_var=False)\n",
    "               \n",
    "        # Computing CI\n",
    "        icl = m1 - m2 - tU*math.sqrt(v1/n1 + v2/n2)\n",
    "        icr = m1 - m2 + tU*math.sqrt(v1/n1 + v2/n2)\n",
    "        \n",
    "        # Formating IC into [icl,icr]\n",
    "        ic = \"[\"+str(notation(icl))+\",\"+str(notation(icr))+\"]\"\n",
    "        \n",
    "        # Printing results into a matrix\n",
    "        res = [c, 'UNequal',ic,notation(ttp[1])]\n",
    "        res_matrix = np.append(res_matrix,res,axis=0)\n",
    "    else: # Equal Variances\n",
    "        ttp = st.ttest_ind(stable[c],recurrent[c], axis=0, equal_var=True)\n",
    "                \n",
    "        # Computing CI\n",
    "        icl = m1 - m2 - t*math.sqrt(vp*(1.0/n1 + 1.0/n2))\n",
    "        icr = m1 - m2 + t*math.sqrt(vp*(1.0/n1 + 1.0/n2))\n",
    "        # Formating IC into [icl,icr]\n",
    "        ic = \"[\"+str(notation(icl))+\",\"+str(notation(icr))+\"]\"\n",
    "        \n",
    "        res = [c, 'Equal',ic,notation(ttp[1])]\n",
    "        res_matrix = np.append(res_matrix,res,axis=0)\n",
    "\n",
    "# Printing out results in a dataframe        \n",
    "res_matrix = np.reshape(res_matrix,(len(stable.columns),4))\n",
    "res_matrix = pd.DataFrame(res_matrix)\n",
    "res_matrix.columns = ['Feature', \"f-test Variance\",'Confidence Interval','T-test p-value']\n",
    "res_matrix.to_csv('2D_ttest_ftest.csv')\n",
    "res_matrix"
   ]
  },
  {
   "cell_type": "markdown",
   "metadata": {},
   "source": [
    "# T-test combined with Levine's test for variance"
   ]
  },
  {
   "cell_type": "code",
   "execution_count": null,
   "metadata": {
    "scrolled": true
   },
   "outputs": [],
   "source": [
    "# Defining sgnificance level\n",
    "alpha = 0.02\n",
    "sigma = alpha/2\n",
    "\n",
    "# Creating a matrix to hold the results\n",
    "res_matrix = []\n",
    "\n",
    "for i,c in enumerate(stable.columns):\n",
    "    # IC parameters\n",
    "    v1 = np.var(stable[c])\n",
    "    v2 = np.var(recurrent[c])\n",
    "    m1 = np.mean(stable[c])\n",
    "    m2 = np.mean(recurrent[c])\n",
    "    n1 = len(stable[c])\n",
    "    n2 = len(recurrent[c])\n",
    "    df1 = n1 - 1\n",
    "    df2 = n2 - 1\n",
    "    \n",
    "    # Degree of freedom for unequal variances\n",
    "    df_u = math.pow((v1/n1 + v2/n2),2)/((math.pow((v1/n1),2)/df1) +\n",
    "             (math.pow((v2/n2),2)/df2))\n",
    "    \n",
    "    # t-student table parameters (tstatistics)\n",
    "    # For Equal variances\n",
    "    t = st.t.ppf(1.0-sigma,df1+df2)\n",
    "    # For unEqual variances\n",
    "    tU = st.t.ppf(1.0-sigma,df_u)\n",
    "    \n",
    "    # Weighted Variance for equal variances\n",
    "    vp = (df1*v1 + df2*v2)/(df1+df2)\n",
    "        \n",
    "    # 1st - Checking the variance with Levene's-test \n",
    "    p = st.levene(stable[c], recurrent[c], center= 'mean')\n",
    "    \n",
    "    if p[1]<0.05: # Evidence of different variance\n",
    "        ttp = st.ttest_ind(stable[c],recurrent[c], axis=0, equal_var=False)\n",
    "               \n",
    "        # Computing CI\n",
    "        icl = m1 - m2 - tU*math.sqrt(v1/n1 + v2/n2)\n",
    "        icr = m1 - m2 + tU*math.sqrt(v1/n1 + v2/n2)\n",
    "        \n",
    "        # Formating IC into [icl,icr]\n",
    "        ic = \"[\"+str(notation(icl))+\",\"+str(notation(icr))+\"]\"\n",
    "        \n",
    "        # Printing results into a matrix\n",
    "        res = [c, 'UNequal',p[1],ic,notation(ttp[1])]\n",
    "        res_matrix = np.append(res_matrix,res,axis=0)\n",
    "    else: # Equal Variances\n",
    "        ttp = st.ttest_ind(stable[c],recurrent[c], axis=0, equal_var=True)\n",
    "                \n",
    "        # Computing CI\n",
    "        icl = m1 - m2 - t*math.sqrt(vp*(1.0/n1 + 1.0/n2))\n",
    "        icr = m1 - m2 + t*math.sqrt(vp*(1.0/n1 + 1.0/n2))\n",
    "        # Formating IC into [icl,icr]\n",
    "        ic = \"[\"+str(notation(icl))+\",\"+str(notation(icr))+\"]\"\n",
    "        \n",
    "        res = [c, 'Equal',p[1],ic,notation(ttp[1])]\n",
    "        res_matrix = np.append(res_matrix,res,axis=0)\n",
    "\n",
    "# Printing out results in a dataframe\n",
    "res_matrix = np.reshape(res_matrix,(len(stable.columns),5))\n",
    "res_matrix = pd.DataFrame(res_matrix)\n",
    "res_matrix.columns = ['Feature', \"Levene's Test Variance\",'Levine-p','Confidence Interval', 'T-test p-value']\n",
    "res_matrix.to_csv('2D_ttest_levinest.csv')\n",
    "res_matrix"
   ]
  },
  {
   "cell_type": "markdown",
   "metadata": {},
   "source": [
    "## Carrying out Shaphiro-Wilks Test for normality For both GROUPs:"
   ]
  },
  {
   "cell_type": "code",
   "execution_count": null,
   "metadata": {
    "scrolled": true
   },
   "outputs": [],
   "source": [
    "# Creating a matrix to hold the results\n",
    "res_matrix = []\n",
    "\n",
    "for i,c in enumerate(stable.columns): \n",
    "    # Computing for both Stable (swS) and Recurrent (swR) Group    \n",
    "    swS = st.shapiro(stable[c])\n",
    "    swR = st.shapiro(recurrent[c])\n",
    "    if swS[1]<0.02: # Evidence of non-normality\n",
    "        Sstatus = 'Not normal'     \n",
    "    else:\n",
    "        Sstatus = 'Normal'\n",
    "        \n",
    "    if swR[1]<0.02: # Evidence of non-normality\n",
    "        Rstatus = 'Not normal'     \n",
    "    else:\n",
    "        Rstatus = 'Normal'\n",
    "    \n",
    "    res = [c, Sstatus , Rstatus]\n",
    "    res_matrix = np.append(res_matrix,res,axis=0)\n",
    "\n",
    "# Printing out results in a dataframe    \n",
    "res_matrix = np.reshape(res_matrix,(len(stable.columns),3))\n",
    "res_matrix = pd.DataFrame(res_matrix)\n",
    "res_matrix.columns = ['Feature', \"SW f/ Stable\", 'SW f/ Recurrent']\n",
    "res_matrix.to_csv('2D_shapiroW.csv')\n",
    "res_matrix"
   ]
  },
  {
   "cell_type": "markdown",
   "metadata": {},
   "source": [
    "## Carrying Kruskal-Wallis test for population comparison  "
   ]
  },
  {
   "cell_type": "code",
   "execution_count": null,
   "metadata": {
    "scrolled": true
   },
   "outputs": [],
   "source": [
    "# Creating a matrix to hold the results\n",
    "res_matrix = []\n",
    "\n",
    "for i,c in enumerate(stable.columns):\n",
    "    # Calculating test statistics\n",
    "    kw = st.kruskal(stable[c],recurrent[c])\n",
    "    if kw[1]<0.02: # Evidence of inequality\n",
    "        res = [c, 'UNequal', notation(kw[1])]\n",
    "        res_matrix = np.append(res_matrix,res,axis=0)\n",
    "    else:\n",
    "        res = [c, 'Equal', notation(kw[1])]\n",
    "        res_matrix = np.append(res_matrix,res,axis=0)\n",
    "        \n",
    "res_matrix = np.reshape(res_matrix,(len(stable.columns),3))  # reshaping\n",
    "res_matrix = pd.DataFrame(res_matrix)\n",
    "res_matrix.columns = ['Feature', \"Kruskal-Wallis's Status\", 'KW-test p-value']\n",
    "res_matrix.to_csv('2D_KruskalWallis.csv')\n",
    "res_matrix"
   ]
  },
  {
   "cell_type": "markdown",
   "metadata": {},
   "source": [
    "## Bundling all the tests information into a single table"
   ]
  },
  {
   "cell_type": "code",
   "execution_count": null,
   "metadata": {
    "scrolled": true
   },
   "outputs": [],
   "source": [
    "# Importing data sets to compile a single dataFrame Results\n",
    "tt_snedecor = pd.read_csv('2D_ttest_ftest.csv')\n",
    "shapiro = pd.read_csv('2D_shapiroW.csv')\n",
    "Kruskal = pd.read_csv('2D_KruskalWallis.csv')\n",
    "\n",
    "# Creating a matrix to hold the results\n",
    "res_matrix = []\n",
    "\n",
    "for i in range(0,len(shapiro.index)):\n",
    "    feature = shapiro.at[i,'Feature']\n",
    "    stable_val = notation(stable.describe()[feature][1])\n",
    "    stable_sd_val = notation(stable.describe()[feature][2])    \n",
    "    recurrent_val = notation(recurrent.describe()[feature][1])\n",
    "    recurrent_sd_val = notation(recurrent.describe()[feature][2])\n",
    "    stable_norm = shapiro.at[i,'SW f/ Stable']\n",
    "    recurrent_norm = shapiro.at[i,'SW f/ Recurrent']\n",
    "    conf_interval_tt = tt_snedecor.at[i,'Confidence Interval']\n",
    "    variance_status = tt_snedecor.at[i,'f-test Variance']\n",
    "    p_value_tt = notation(tt_snedecor.at[i,\"T-test p-value\"])\n",
    "    p_value_kw = notation(Kruskal.at[i,\"KW-test p-value\"])\n",
    "    \n",
    "    stable_read = str(stable_val)+' +- '+str(stable_sd_val)\n",
    "    recurrent_read = str(recurrent_val)+\" +- \"+str(recurrent_sd_val)\n",
    "    if stable_norm == recurrent_norm == 'Normal':\n",
    "        res = [feature,stable_read,recurrent_read,variance_status,'Normal', conf_interval_tt, p_value_tt, p_value_kw]\n",
    "        res_matrix.append(res)\n",
    "    else:\n",
    "        res = [feature,stable_read,recurrent_read,variance_status,'Not', conf_interval_tt, p_value_tt, p_value_kw]\n",
    "        res_matrix.append(res)\n",
    "\n",
    "# Printing Out results into Data Frame\n",
    "res_matrix = np.reshape(res_matrix,(len(stable.columns),8))  # reshaping\n",
    "res_matrix = pd.DataFrame(res_matrix)\n",
    "res_matrix.columns = ['Feature','Stable Value', 'Recurrent Value','Snedecor Variance','Normality','T-test-IC','T-test-p','Kruskal-Wallis']\n",
    "res_matrix.to_csv('2D_ConventionalStatistics.csv')\n",
    "res_matrix"
   ]
  },
  {
   "cell_type": "markdown",
   "metadata": {
    "collapsed": true
   },
   "source": [
    "## Best features table"
   ]
  },
  {
   "cell_type": "code",
   "execution_count": null,
   "metadata": {
    "scrolled": true
   },
   "outputs": [],
   "source": [
    "# Importing data sets to compile a single dataFrame Results\n",
    "conventional = pd.read_csv('2D_ConventionalStatistics.csv')\n",
    "del conventional['Unnamed: 0']\n",
    "allRes = []\n",
    "\n",
    "a = conventional.at[1,'T-test-p']\n",
    "for index in range(0,len(conventional.index)):\n",
    "    if (conventional.at[index,'T-test-p'] <= 0.02) and (conventional.at[index,'Normality'] == 'Not') or (conventional.at[index,'Kruskal-Wallis'] <= 0.02):\n",
    "        #print('deleted')\n",
    "        line = conventional.iloc[index]\n",
    "        allRes.append(line)  \n",
    "allRes = pd.DataFrame(allRes)\n",
    "allRes.to_csv('2DallrelevantFeaturesUnivariate.csv')\n",
    "allRes"
   ]
  },
  {
   "cell_type": "code",
   "execution_count": null,
   "metadata": {
    "scrolled": true
   },
   "outputs": [],
   "source": [
    "importantFeat = ['original_glrlm_RunLengthNonUniformity',\n",
    "'original_glszm_GrayLevelNonUniformity',\n",
    "'wavelet-LHH_firstorder_Energy',\n",
    "'wavelet-LHH_firstorder_TotalEnergy',\n",
    "'wavelet-HLH_firstorder_Energy',\n",
    "'wavelet-LLH_firstorder_TotalEnergy',\n",
    "'wavelet-HHL_firstorder_Energy',\n",
    "'original_shape_Maximum3DDiameter','original_shape_VoxelVolume'\n",
    "]\n",
    "\n",
    "# Importing data sets to compile a single dataFrame Results\n",
    "conventional = pd.read_csv('ConventionalStatistics.csv')\n",
    "del conventional['Unnamed: 0']\n",
    "\n",
    "importantRes = []\n",
    "\n",
    "for index in range(0,len(conventional.index)):\n",
    "    for feat in (importantFeat):\n",
    "        if (conventional.at[index,'Feature'] == feat):\n",
    "            a = conventional.iloc[index]\n",
    "            importantRes.append(a)\n",
    "            #print(a)\n",
    "importantRes = pd.DataFrame(importantRes)\n",
    "importantRes"
   ]
  }
 ],
 "metadata": {
  "kernelspec": {
   "display_name": "Python 3",
   "language": "python",
   "name": "python3"
  },
  "language_info": {
   "codemirror_mode": {
    "name": "ipython",
    "version": 3
   },
   "file_extension": ".py",
   "mimetype": "text/x-python",
   "name": "python",
   "nbconvert_exporter": "python",
   "pygments_lexer": "ipython3",
   "version": "3.8.2"
  }
 },
 "nbformat": 4,
 "nbformat_minor": 2
}
